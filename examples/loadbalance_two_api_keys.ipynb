{
 "cells": [
  {
   "cell_type": "markdown",
   "metadata": {},
   "source": [
    "# Loadbalance Between Two OpenAI Accounts\n",
    "\n",
    "Simple code example on implementing load balancing with Portkey."
   ]
  },
  {
   "cell_type": "markdown",
   "metadata": {},
   "source": [
    "### 1. Create **`two LLM objects`** with **`two different API keys`**\n",
    "\n",
    "We will also set the *weight* for both the LLMs here - this weight determines how requests are distributed among the LLMs."
   ]
  },
  {
   "cell_type": "code",
   "execution_count": null,
   "metadata": {
    "vscode": {
     "languageId": "plaintext"
    }
   },
   "outputs": [],
   "source": [
    "# Install the Portkey SDK\n",
    "!pip install portkey-ai\n",
    "\n",
    "# Import necessary modules from Portkey\n",
    "import portkey\n",
    "from portkey import Config, LLMOptions\n",
    "\n",
    "# Create two LLM objects with different account keys\n",
    "llm_a = LLMOptions(provider = \"openai\", api_key = \"OPENAI_ACCOUNT_1_KEY\", weight = 0.5)\n",
    "llm_b = LLMOptions(provider = \"openai\", api_key = \"OPENAI_ACCOUNT_2_KEY\", weight = 0.5)"
   ]
  },
  {
   "cell_type": "markdown",
   "metadata": {},
   "source": [
    "### 2. Implement **`loadbalance`** mode"
   ]
  },
  {
   "cell_type": "code",
   "execution_count": null,
   "metadata": {
    "vscode": {
     "languageId": "plaintext"
    }
   },
   "outputs": [],
   "source": [
    "# Construct the Porktey client and pass the LLM objects\n",
    "\n",
    "portkey.config = Config(\n",
    "    api_key = \"PORTKEY_API_KEY\", \n",
    "    mode = \"loadbalance\", \n",
    "    llms = [llm_a,llm_b]\n",
    ")"
   ]
  },
  {
   "cell_type": "markdown",
   "metadata": {},
   "source": [
    "### 3. Make the **`ChatComplete`** call\n",
    "\n",
    "**Portkey SDK follows OpenAI SDK signature** - model params **including the model name**, can be passed at the completion call.\n",
    "\n",
    "Just replce **`openai.ChatCompletion.create`** to **`portkey.ChatCompletion.create`** - **Everything else remains the same**"
   ]
  },
  {
   "cell_type": "code",
   "execution_count": null,
   "metadata": {
    "vscode": {
     "languageId": "plaintext"
    }
   },
   "outputs": [],
   "source": [
    "response = portkey.ChatCompletions.create(\n",
    "    model = \"gpt-4-0613\", \n",
    "    messages = [\n",
    "        {\"role\": \"system\", \"content\": \"You are a helpful assistant.\"},\n",
    "        {\"role\": \"user\", \"content\": \"What is the meaning of life, universe and everything?\"},\n",
    "    ]\n",
    ")\n",
    "\n",
    "print(response)"
   ]
  },
  {
   "cell_type": "markdown",
   "metadata": {},
   "source": []
  }
 ],
 "metadata": {
  "language_info": {
   "name": "python"
  },
  "orig_nbformat": 4
 },
 "nbformat": 4,
 "nbformat_minor": 2
}
